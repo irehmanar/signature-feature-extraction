{
  "nbformat": 4,
  "nbformat_minor": 0,
  "metadata": {
    "colab": {
      "provenance": []
    },
    "kernelspec": {
      "name": "python3",
      "display_name": "Python 3"
    },
    "language_info": {
      "name": "python"
    }
  },
  "cells": [
    {
      "cell_type": "markdown",
      "source": [
        "**find_centroid:**\n",
        "\n",
        "Purpose: Calculates the centroid (or center of mass) of black pixels in a specified region of a binary image.\n",
        "Parameters:\n",
        "image: A binary (black and white) PIL image object.\n",
        "left, right, top, bottom: Integer boundaries defining the rectangular subregion within the image.\n",
        "Returns: A tuple (cx, cy) with the x and y coordinates of the centroid of black pixels in the specified region. If no black pixels are found, it returns the midpoint of the region.\n",
        "Behavior: Iterates through the pixels in the specified region to calculate the average x and y coordinates of black pixels.\n",
        "\n",
        "**find_transitions:**\n",
        "\n",
        "Purpose: Counts the number of transitions from black (0) to white (255) pixels in a specified rectangular region of the image.\n",
        "Parameters:\n",
        "image: A binary (black and white) PIL image object.\n",
        "left, right, top, bottom: Integer boundaries defining the subregion within the image.\n",
        "Returns: An integer representing the count of black-to-white transitions within the specified region.\n",
        "Behavior: Iterates over each pixel in the region and tracks transitions by comparing each pixel with the previous one.\n",
        "\n",
        "**draw_centroid_grid:**\n",
        "\n",
        "Purpose: Recursively divides a specified region of the image into smaller cells, computes features (centroid, transitions, and aspect ratio) at each depth level, and records them in provided lists.\n",
        "Parameters:\n",
        "image: A binary (black and white) PIL image object.\n",
        "draw: A PIL.ImageDraw object used for drawing lines on the image to create a grid.\n",
        "left, right, top, bottom: Integer boundaries defining the region within the image to divide.\n",
        "depth: Integer representing the current level of recursive division (default is 0).\n",
        "centroids, transitions, ratios: Lists to collect the calculated centroids, transition counts, and aspect ratios for each cell at the final depth level.\n",
        "Behavior: Recursively divides the region into a 4x4 grid (64 cells) by splitting until a depth of 3 is reached. At the final depth, it calculates and stores the centroid, transition count, and aspect ratio for each cell.\n",
        "\n",
        "\n",
        "**process_signature:**\n",
        "\n",
        "Purpose: Processes a single signature image, extracts features (centroids, transitions, aspect ratios) across a 4x4 grid, and stores them in specified lists.\n",
        "Parameters:\n",
        "image_path: String path to the signature image file to be processed.\n",
        "centroids, transitions, ratios: Lists for collecting centroids, transition counts, and aspect ratios for each cell in the 4x4 grid.\n",
        "Behavior: Converts the image to grayscale, applies a binary threshold, divides it into a grid, and uses draw_centroid_grid to extract features for each cell, appending them to the given lists.\n",
        "process_all_signatures:\n",
        "\n",
        "Purpose: Processes multiple signature images in sequence, extracting features from each and saving them in a single CSV file.\n",
        "Parameters:\n",
        "output_prefix: String prefix for the output file, including directory path if needed.\n",
        "Behavior: Iterates over 25 signature image files named R001.png to R025.png. For each, it calls process_signature to calculate and store the centroid, transition count, and aspect ratio for each cell in the 4x4 grid. Saves the collected data in a single CSV file with columns for each feature.\n",
        "Returns: The path of the saved CSV file containing the extracted features."
      ],
      "metadata": {
        "id": "ExR0dPHf70Jk"
      }
    },
    {
      "cell_type": "markdown",
      "source": [
        "#Preprocessing"
      ],
      "metadata": {
        "id": "xCXheoBIxxKq"
      }
    },
    {
      "cell_type": "code",
      "execution_count": 28,
      "metadata": {
        "id": "k5FCe-AqwY27"
      },
      "outputs": [],
      "source": [
        "from PIL import Image\n",
        "\n",
        "# Load the image\n",
        "img = Image.open('/content/R001.png')\n",
        "\n",
        "# Convert to grayscale\n",
        "gray_img = img.convert('L')\n",
        "\n",
        "# Apply a binary threshold to convert to black and white\n",
        "# Threshold value: 128, pixel values below will be black (0), above will be white (255)\n",
        "threshold = 128\n",
        "binary_img = gray_img.point(lambda p: p > threshold and 255)\n",
        "\n",
        "# Save or display the result\n",
        "binary_img.show()  # To display in your local environment, or you can save it\n",
        "binary_img.save('binary_signature_R001.png')\n"
      ]
    },
    {
      "cell_type": "markdown",
      "source": [
        "#Tasks"
      ],
      "metadata": {
        "id": "tjwktQ5Wy5ha"
      }
    },
    {
      "cell_type": "markdown",
      "source": [
        "##Task 1: Developing a bounding box"
      ],
      "metadata": {
        "id": "XkmY2CSs8H2i"
      }
    },
    {
      "cell_type": "code",
      "source": [
        "from PIL import Image, ImageDraw\n",
        "import numpy as np\n",
        "import os\n",
        "import csv\n",
        "import cv2\n",
        "from sklearn.decomposition import PCA"
      ],
      "metadata": {
        "id": "RYjeMLXkyMJm"
      },
      "execution_count": 29,
      "outputs": []
    },
    {
      "cell_type": "code",
      "source": [
        "def find_signature_bounding_box(image_path, min_signature_area=50):\n",
        "    # Load the image\n",
        "    image = Image.open(image_path)\n",
        "\n",
        "    # Get the dimensions of the image\n",
        "    width, height = image.size\n",
        "\n",
        "    # Initialise bounding box coordinates\n",
        "    left = width\n",
        "    right = 0\n",
        "    top = height\n",
        "    bottom = 0\n",
        "\n",
        "    # Count the number of black pixels (signature part) within the bounding box\n",
        "    black_pixel_count = 0\n",
        "\n",
        "    # Iterate through the image pixel by pixel\n",
        "    for x in range(width):\n",
        "        for y in range(height):\n",
        "            color = image.getpixel((x, y))\n",
        "\n",
        "            # Check if the pixel is black (signature part)\n",
        "            if color == 0:  # 0 means black in binary image mode\n",
        "                black_pixel_count += 1\n",
        "                if x > right:\n",
        "                    right = x\n",
        "                if x < left:\n",
        "                    left = x\n",
        "                if y > bottom:\n",
        "                    bottom = y\n",
        "                if y < top:\n",
        "                    top = y\n",
        "\n",
        "    # If the number of black pixels is smaller than min_signature_area, ignore\n",
        "    if black_pixel_count < min_signature_area:\n",
        "        print(\"Signature is too small, ignoring.\")\n",
        "        return None\n",
        "\n",
        "    # Return the bounding box coordinates\n",
        "    return (left, top, right, bottom)"
      ],
      "metadata": {
        "id": "5nPj4EZox8kN"
      },
      "execution_count": 30,
      "outputs": []
    },
    {
      "cell_type": "code",
      "source": [
        "\n",
        "image_path = '/content/binary_signature_R001.png'\n",
        "bounding_box = find_signature_bounding_box(image_path, min_signature_area=50)\n",
        "\n",
        "if bounding_box:\n",
        "    print(f\"Bounding Box: {bounding_box}\")\n",
        "\n",
        "    # To visualize the bounding box on the image\n",
        "    image = Image.open(image_path)\n",
        "    draw = ImageDraw.Draw(image)\n",
        "    draw.rectangle(bounding_box, outline='red', width=8)\n",
        "\n",
        "    # Save the image with the bounding box\n",
        "    output_image_path = '/content/signed_image_R001_with_box.jpg'\n",
        "    image.save(output_image_path)\n",
        "\n",
        "    # Display the saved image\n",
        "    image.show()\n",
        "else:\n",
        "    print(\"No valid signature found.\")\n"
      ],
      "metadata": {
        "colab": {
          "base_uri": "https://localhost:8080/"
        },
        "id": "Z4aJJlYMwwQJ",
        "outputId": "986af8bb-27ae-4069-b158-033e3f205943"
      },
      "execution_count": 32,
      "outputs": [
        {
          "output_type": "stream",
          "name": "stdout",
          "text": [
            "Bounding Box: (4, 8, 2870, 706)\n"
          ]
        }
      ]
    },
    {
      "cell_type": "markdown",
      "source": [
        "##Task 2: Locating the centroid"
      ],
      "metadata": {
        "id": "ja764aBi8UK6"
      }
    },
    {
      "cell_type": "code",
      "source": [
        "def find_signature_centroid(image_path, bounding_box):\n",
        "    # Load the image\n",
        "    image = Image.open(image_path)\n",
        "\n",
        "    # Get bounding box coordinates\n",
        "    left, top, right, bottom = bounding_box\n",
        "\n",
        "    # Initialise centroid coordinates and counter\n",
        "    cx = 0\n",
        "    cy = 0\n",
        "    n = 0  # Number of black pixels (signature pixels) in the bounding box\n",
        "\n",
        "    # Iterate through the bounding box pixels\n",
        "    for x in range(left, right + 1):\n",
        "        for y in range(top, bottom + 1):\n",
        "            color = image.getpixel((x, y))\n",
        "\n",
        "            # If the pixel is black (signature part)\n",
        "            if color == 0:  # 0 means black in binary image mode\n",
        "                cx += x\n",
        "                cy += y\n",
        "                n += 1\n",
        "\n",
        "    # If there are black pixels, compute the centroid\n",
        "    if n > 0:\n",
        "        cx /= n\n",
        "        cy /= n\n",
        "    else:\n",
        "        cx, cy = None, None  # No signature found\n",
        "\n",
        "    return (cx, cy)"
      ],
      "metadata": {
        "id": "uBVxpMr-yClv"
      },
      "execution_count": 33,
      "outputs": []
    },
    {
      "cell_type": "code",
      "source": [
        "centroid = find_signature_centroid('/content/binary_signature_R001.png', bounding_box)\n",
        "print(f\"Centroid: {centroid}\")"
      ],
      "metadata": {
        "colab": {
          "base_uri": "https://localhost:8080/"
        },
        "id": "5JqczdfHzEqQ",
        "outputId": "4c8e5162-7657-44a3-d5e5-076f56c2c442"
      },
      "execution_count": 34,
      "outputs": [
        {
          "output_type": "stream",
          "name": "stdout",
          "text": [
            "Centroid: (1359.2515635116104, 294.0762166022573)\n"
          ]
        }
      ]
    },
    {
      "cell_type": "markdown",
      "source": [
        "##Task 3: Dividing the image at centroid to create four segments"
      ],
      "metadata": {
        "id": "bVjVuEoY8YMr"
      }
    },
    {
      "cell_type": "code",
      "source": [
        "def divide_image_at_centroid(image_path, bounding_box, centroid):\n",
        "    # Load the image\n",
        "    image = Image.open(image_path)\n",
        "\n",
        "    # Get bounding box coordinates\n",
        "    left, top, right, bottom = bounding_box\n",
        "    cx, cy = centroid\n",
        "\n",
        "    # Define the four segments based on the centroid\n",
        "    top_left = image.crop((left, top, cx, cy))  # Segment 1: (left, cx, top, cy)\n",
        "    top_right = image.crop((cx, top, right, cy))  # Segment 2: (cx, right, top, cy)\n",
        "    bottom_left = image.crop((left, cy, cx, bottom))  # Segment 3: (left, cx, cy, bottom)\n",
        "    bottom_right = image.crop((cx, cy, right, bottom))  # Segment 4: (cx, right, cy, bottom)\n",
        "\n",
        "    return top_left, top_right, bottom_left, bottom_right\n",
        "\n",
        "def draw_lines_and_save(image_path, bounding_box, centroid, output_path='signature_with_4_segments.png'):\n",
        "\n",
        "    # Load the image\n",
        "    img = Image.open(image_path)\n",
        "\n",
        "    # Get image dimensions\n",
        "    width, height = img.size\n",
        "\n",
        "    # Draw bounding box and centroid lines\n",
        "    draw = ImageDraw.Draw(img)\n",
        "\n",
        "    # Draw the bounding box\n",
        "    left, top, right, bottom = bounding_box\n",
        "    draw.rectangle([left, top, right, bottom], outline=\"red\", width=2)\n",
        "\n",
        "    # Draw the dividing lines through the centroid\n",
        "    cx, cy = centroid\n",
        "    draw.line([(cx, top), (cx, bottom)], fill=\"green\", width=5)  # Vertical line at cx\n",
        "    draw.line([(left, cy), (right, cy)], fill=\"green\", width=5)  # Horizontal line at cy\n",
        "\n",
        "    # Save the result image\n",
        "    img.save(output_path)\n",
        "\n",
        "    # Return the saved image path\n",
        "    return output_path\n"
      ],
      "metadata": {
        "id": "55A34fkh14Br"
      },
      "execution_count": 36,
      "outputs": []
    },
    {
      "cell_type": "code",
      "source": [
        "image_path = '/content/signed_image_R001_with_box.jpg'\n",
        "centroid = (centroid[0], centroid[1])  # Example centroid coordinates (cx, cy)\n",
        "\n",
        "# Divide the image into four segments\n",
        "top_left, top_right, bottom_left, bottom_right = divide_image_at_centroid(image_path, bounding_box, centroid)\n",
        "\n",
        "# Show or save the segments\n",
        "top_left.show()\n",
        "top_right.show()\n",
        "bottom_left.show()\n",
        "bottom_right.show()\n",
        "\n",
        "# Draw centroid lines on the original image and save it\n",
        "output_image_path = 'signature_R001_with_segments.png'\n",
        "saved_path = draw_lines_and_save(image_path, bounding_box, centroid, output_path=output_image_path)\n",
        "\n",
        "print(f\"Saved Image Path: {saved_path}\")"
      ],
      "metadata": {
        "colab": {
          "base_uri": "https://localhost:8080/"
        },
        "id": "7CDdZ358zd4W",
        "outputId": "1d9baa29-1edf-440f-ac08-ced35b7e46f8"
      },
      "execution_count": 37,
      "outputs": [
        {
          "output_type": "stream",
          "name": "stdout",
          "text": [
            "Saved Image Path: signature_R001_with_segments.png\n"
          ]
        }
      ]
    },
    {
      "cell_type": "markdown",
      "source": [
        "##Task 4: Finding black to white transitions"
      ],
      "metadata": {
        "id": "lDD7y6n5LhkW"
      }
    },
    {
      "cell_type": "code",
      "source": [
        "from PIL import Image\n",
        "\n",
        "def count_black_to_white_transitions(image, left, top, right, bottom):\n",
        "    transitions = 0\n",
        "    prev_pixel = image.getpixel((left, top))  # Initialize with the first pixel in the segment\n",
        "\n",
        "    # Iterate through each pixel in the given segment\n",
        "    for x in range(left + 1, right + 1):\n",
        "        for y in range(top + 1, bottom + 1):\n",
        "            curr_pixel = image.getpixel((x, y))\n",
        "            # Check if there is a black-to-white transition\n",
        "            if curr_pixel == 255 and prev_pixel == 0:\n",
        "                transitions += 1\n",
        "            prev_pixel = curr_pixel  # Update previous pixel\n",
        "\n",
        "    return transitions\n",
        "\n"
      ],
      "metadata": {
        "id": "VAWuiTmu8xed"
      },
      "execution_count": 40,
      "outputs": []
    },
    {
      "cell_type": "code",
      "source": [
        "# Load the binary image\n",
        "image_path = '/content/binary_signature_R001.png'\n",
        "image = Image.open(image_path).convert('L')  # Convert to grayscale\n",
        "threshold = 128\n",
        "binary_image = image.point(lambda p: p > threshold and 255)  # Binarize the image\n",
        "\n",
        "# Define bounding box and centroid (assuming you already have these)\n",
        "bounding_box = (50, 100, 300, 350)  # Example bounding box coordinates\n",
        "centroid = (175, 225)  # Example centroid coordinates\n",
        "\n",
        "# Divide the image into four segments based on the bounding box and centroid\n",
        "left, top, right, bottom = bounding_box\n",
        "cx, cy = centroid\n",
        "\n",
        "# Define the segments\n",
        "top_left = (left, top, cx, cy)\n",
        "top_right = (cx, top, right, cy)\n",
        "bottom_left = (left, cy, cx, bottom)\n",
        "bottom_right = (cx, cy, right, bottom)\n",
        "\n",
        "# Count black-to-white transitions for each segment\n",
        "transitions_top_left = count_black_to_white_transitions(binary_image, *top_left)\n",
        "transitions_top_right = count_black_to_white_transitions(binary_image, *top_right)\n",
        "transitions_bottom_left = count_black_to_white_transitions(binary_image, *bottom_left)\n",
        "transitions_bottom_right = count_black_to_white_transitions(binary_image, *bottom_right)\n",
        "\n",
        "print(f\"Top-left transitions: {transitions_top_left}\")\n",
        "print(f\"Top-right transitions: {transitions_top_right}\")\n",
        "print(f\"Bottom-left transitions: {transitions_bottom_left}\")\n",
        "print(f\"Bottom-right transitions: {transitions_bottom_right}\")\n"
      ],
      "metadata": {
        "colab": {
          "base_uri": "https://localhost:8080/"
        },
        "id": "2bX4saox1AX_",
        "outputId": "c63c71b7-3d99-4685-a7d4-14310259fa00"
      },
      "execution_count": 41,
      "outputs": [
        {
          "output_type": "stream",
          "name": "stdout",
          "text": [
            "Top-left transitions: 22\n",
            "Top-right transitions: 192\n",
            "Bottom-left transitions: 125\n",
            "Bottom-right transitions: 181\n"
          ]
        }
      ]
    },
    {
      "cell_type": "markdown",
      "source": [
        "##Task5:Dividing the signature into 64 cells"
      ],
      "metadata": {
        "id": "UqdIx9Vy1Gm3"
      }
    },
    {
      "cell_type": "code",
      "source": [
        "def find_centroid(image, left, right, top, bottom):\n",
        "    \"\"\"\n",
        "    Finds the centroid of the black pixels within the specified bounding box.\n",
        "    \"\"\"\n",
        "    cx, cy, n = 0, 0, 0\n",
        "\n",
        "    for x in range(left, right):\n",
        "        for y in range(top, bottom):\n",
        "            color = image.getpixel((x, y))\n",
        "            if color == 0:  # Black pixel\n",
        "                cx += x\n",
        "                cy += y\n",
        "                n += 1\n",
        "\n",
        "    if n > 0:\n",
        "        return (cx // n, cy // n)  # Return the integer coordinates of the centroid\n",
        "    else:\n",
        "        # If no black pixels are found, return the geometric center\n",
        "        return ((left + right) // 2, (top + bottom) // 2)"
      ],
      "metadata": {
        "id": "3282OtqlPwA2"
      },
      "execution_count": 42,
      "outputs": []
    },
    {
      "cell_type": "code",
      "source": [
        "def draw_centroid_grid(image, draw, left, right, top, bottom, depth=0):\n",
        "    \"\"\"\n",
        "    Recursively divide the image into 64 cells using the centroid of each cell\n",
        "    and draw lines to visualize the grid.\n",
        "    \"\"\"\n",
        "    if depth < 3:\n",
        "        # Find the centroid for the current cell\n",
        "        cx, cy = find_centroid(image, left, right, top, bottom)\n",
        "\n",
        "        # Draw the dividing lines based on the centroid\n",
        "        draw.line([(cx, top), (cx, bottom)], fill=\"blue\", width=1)  # Vertical line at cx\n",
        "        draw.line([(left, cy), (right, cy)], fill=\"blue\", width=1)  # Horizontal line at cy\n",
        "\n",
        "        # Recursively split the four quadrants based on the centroid\n",
        "        draw_centroid_grid(image, draw, left, cx, top, cy, depth + 1)  # Top-left\n",
        "        draw_centroid_grid(image, draw, cx, right, top, cy, depth + 1)  # Top-right\n",
        "        draw_centroid_grid(image, draw, left, cx, cy, bottom, depth + 1)  # Bottom-left\n",
        "        draw_centroid_grid(image, draw, cx, right, cy, bottom, depth + 1)  # Bottom-right"
      ],
      "metadata": {
        "id": "EFQELNQB1bJM"
      },
      "execution_count": 43,
      "outputs": []
    },
    {
      "cell_type": "code",
      "source": [
        "def process_signature_with_centroid_grid(image_path, output_path):\n",
        "    \"\"\"\n",
        "    Process the image, divide it into 64 centroid-based cells, and draw grid lines for visualization.\n",
        "    \"\"\"\n",
        "    # Load the image\n",
        "    img = Image.open(image_path)\n",
        "\n",
        "    # Convert the image to grayscale and then binary (black and white)\n",
        "    img = img.convert('L')\n",
        "    threshold = 128  # Set the threshold for binarization\n",
        "    binary_img = img.point(lambda p: p > threshold and 255)\n",
        "\n",
        "    # Prepare to draw lines on the original image\n",
        "    draw = ImageDraw.Draw(binary_img)\n",
        "\n",
        "    # Get image dimensions\n",
        "    width, height = binary_img.size\n",
        "\n",
        "    # Recursively divide the image into 64 cells and draw grid lines\n",
        "    draw_centroid_grid(binary_img, draw, 0, width, 0, height, depth=0)\n",
        "\n",
        "    # Save the image with the grid\n",
        "    binary_img.save(output_path)\n",
        "    binary_img.show()\n"
      ],
      "metadata": {
        "id": "naWRobzE1d0C"
      },
      "execution_count": 44,
      "outputs": []
    },
    {
      "cell_type": "code",
      "source": [
        "process_signature_with_centroid_grid('/content/binary_signature_R001.png', '/content/signature_R001_with_centroid_64_cells.png')\n",
        "print(\"Image with 64 segments saved successfully\")"
      ],
      "metadata": {
        "colab": {
          "base_uri": "https://localhost:8080/"
        },
        "id": "6hC_6zdZ1kKH",
        "outputId": "f78ac11b-f541-46cc-ae02-99432ac916a1"
      },
      "execution_count": 47,
      "outputs": [
        {
          "output_type": "stream",
          "name": "stdout",
          "text": [
            "Image with 64 segments saved successfully\n"
          ]
        }
      ]
    },
    {
      "cell_type": "markdown",
      "source": [
        "##Task6: Finding Centroids , Transitions  ratios for R001.png into seperate txt files"
      ],
      "metadata": {
        "id": "8KmAfsFb2D1p"
      }
    },
    {
      "cell_type": "code",
      "source": [
        "def find_centroid(image, left, right, top, bottom):\n",
        "    cx, cy, n = 0, 0, 0\n",
        "\n",
        "    for x in range(left, right):\n",
        "        for y in range(top, bottom):\n",
        "            color = image.getpixel((x, y))\n",
        "            if color == 0:  # Black pixel\n",
        "                cx += x\n",
        "                cy += y\n",
        "                n += 1\n",
        "\n",
        "    if n > 0:\n",
        "        return (cx // n, cy // n)\n",
        "    else:\n",
        "        return ((left + right) // 2, (top + bottom) // 2)\n",
        "\n",
        "def find_transitions(image, left, right, top, bottom):\n",
        "    transitions = 0\n",
        "    prev_pixel = None\n",
        "\n",
        "    for x in range(left, right):\n",
        "        for y in range(top, bottom):\n",
        "            curr_pixel = image.getpixel((x, y))\n",
        "            if prev_pixel == 0 and curr_pixel == 255:\n",
        "                transitions += 1\n",
        "            prev_pixel = curr_pixel\n",
        "    return transitions"
      ],
      "metadata": {
        "id": "vRH-ZjZEQgVa",
        "colab": {
          "base_uri": "https://localhost:8080/"
        },
        "outputId": "36b51147-a2c8-4a25-e0a3-7335a7c2029a"
      },
      "execution_count": 51,
      "outputs": [
        {
          "output_type": "stream",
          "name": "stdout",
          "text": [
            "Features extraced successfully\n"
          ]
        }
      ]
    },
    {
      "cell_type": "markdown",
      "source": [
        "##Extracting Feature from one image R001"
      ],
      "metadata": {
        "id": "FS2BboPawVSK"
      }
    },
    {
      "cell_type": "code",
      "source": [
        "def draw_centroid_grid(image, draw, left, right, top, bottom, depth=0, centroids=[], transitions=[], ratios=[]):\n",
        "    if depth < 3:\n",
        "        cx, cy = find_centroid(image, left, right, top, bottom)\n",
        "\n",
        "        draw.line([(cx, top), (cx, bottom)], fill=\"blue\", width=1)\n",
        "        draw.line([(left, cy), (right, cy)], fill=\"blue\", width=1)\n",
        "\n",
        "        draw_centroid_grid(image, draw, left, cx, top, cy, depth + 1, centroids, transitions, ratios)\n",
        "        draw_centroid_grid(image, draw, cx, right, top, cy, depth + 1, centroids, transitions, ratios)\n",
        "        draw_centroid_grid(image, draw, left, cx, cy, bottom, depth + 1, centroids, transitions, ratios)\n",
        "        draw_centroid_grid(image, draw, cx, right, cy, bottom, depth + 1, centroids, transitions, ratios)\n",
        "    else:\n",
        "        # When depth 3 is reached, calculate and store the features for each cell\n",
        "        centroid = find_centroid(image, left, right, top, bottom)\n",
        "        centroids.append(centroid)\n",
        "\n",
        "        transition_count = find_transitions(image, left, right, top, bottom)\n",
        "        transitions.append(transition_count)\n",
        "\n",
        "        aspect_ratio = (right - left) / (bottom - top)\n",
        "        ratios.append(aspect_ratio)\n"
      ],
      "metadata": {
        "id": "y8RsJ0nk3BI-"
      },
      "execution_count": 52,
      "outputs": []
    },
    {
      "cell_type": "code",
      "source": [
        "def process_signature(image_path, output_prefix):\n",
        "    img = Image.open(image_path)\n",
        "    img = img.convert('L')\n",
        "    threshold = 128\n",
        "    binary_img = img.point(lambda p: p > threshold and 255)\n",
        "\n",
        "    draw = ImageDraw.Draw(binary_img)\n",
        "    width, height = binary_img.size\n",
        "\n",
        "    centroids, transitions, ratios = [], [], []\n",
        "\n",
        "    draw_centroid_grid(binary_img, draw, 0, width, 0, height, depth=0, centroids=centroids, transitions=transitions, ratios=ratios)\n",
        "\n",
        "    # Save the extracted features to text files\n",
        "    np.savetxt(f'{output_prefix}_centroids.txt', centroids, fmt='%.2f')\n",
        "    np.savetxt(f'{output_prefix}_transitions.txt', transitions, fmt='%d')\n",
        "    np.savetxt(f'{output_prefix}_ratios.txt', ratios, fmt='%.2f')\n",
        "\n",
        "    binary_img.save(f'{output_prefix}_signature_with_grid.png')\n",
        "    binary_img.show()"
      ],
      "metadata": {
        "id": "5YYIRfd53Dt4"
      },
      "execution_count": 53,
      "outputs": []
    },
    {
      "cell_type": "code",
      "source": [
        "\n",
        "process_signature('/content/binary_signature_R001.png', '/content/latestresult_R001')\n",
        "print(\"Features extraced successfully\")"
      ],
      "metadata": {
        "colab": {
          "base_uri": "https://localhost:8080/"
        },
        "id": "ZFYu3e6d3HCC",
        "outputId": "2ce2369d-5e51-497f-bd07-8f2025cdadf7"
      },
      "execution_count": 54,
      "outputs": [
        {
          "output_type": "stream",
          "name": "stdout",
          "text": [
            "Features extraced successfully\n"
          ]
        }
      ]
    },
    {
      "cell_type": "code",
      "source": [
        "def find_centroid(image, left, right, top, bottom):\n",
        "    cx, cy, n = 0, 0, 0\n",
        "\n",
        "    for x in range(left, right):\n",
        "        for y in range(top, bottom):\n",
        "            color = image.getpixel((x, y))\n",
        "            if color == 0:  # Black pixel\n",
        "                cx += x\n",
        "                cy += y\n",
        "                n += 1\n",
        "\n",
        "    if n > 0:\n",
        "        return (cx // n, cy // n)\n",
        "    else:\n",
        "        return ((left + right) // 2, (top + bottom) // 2)\n",
        "\n"
      ],
      "metadata": {
        "id": "zOfod2aeTOiB"
      },
      "execution_count": 63,
      "outputs": []
    },
    {
      "cell_type": "code",
      "source": [
        "def find_transitions(image, left, right, top, bottom):\n",
        "    transitions = 0\n",
        "    prev_pixel = None\n",
        "\n",
        "    for x in range(left, right):\n",
        "        for y in range(top, bottom):\n",
        "            curr_pixel = image.getpixel((x, y))\n",
        "            if prev_pixel == 0 and curr_pixel == 255:\n",
        "                transitions += 1\n",
        "            prev_pixel = curr_pixel\n",
        "    return transitions"
      ],
      "metadata": {
        "id": "AYFk71WL7T2u"
      },
      "execution_count": null,
      "outputs": []
    },
    {
      "cell_type": "code",
      "source": [
        "def draw_centroid_grid(image, draw, left, right, top, bottom, depth=0, centroids=[], transitions=[], ratios=[]):\n",
        "    if depth < 3:\n",
        "        cx, cy = find_centroid(image, left, right, top, bottom)\n",
        "\n",
        "        draw.line([(cx, top), (cx, bottom)], fill=\"blue\", width=1)\n",
        "        draw.line([(left, cy), (right, cy)], fill=\"blue\", width=1)\n",
        "\n",
        "        draw_centroid_grid(image, draw, left, cx, top, cy, depth + 1, centroids, transitions, ratios)\n",
        "        draw_centroid_grid(image, draw, cx, right, top, cy, depth + 1, centroids, transitions, ratios)\n",
        "        draw_centroid_grid(image, draw, left, cx, cy, bottom, depth + 1, centroids, transitions, ratios)\n",
        "        draw_centroid_grid(image, draw, cx, right, cy, bottom, depth + 1, centroids, transitions, ratios)\n",
        "    else:\n",
        "        # When depth 3 is reached, calculate and store the features for each cell\n",
        "        centroid = find_centroid(image, left, right, top, bottom)\n",
        "        centroids.append(centroid)\n",
        "\n",
        "        transition_count = find_transitions(image, left, right, top, bottom)\n",
        "        transitions.append(transition_count)\n",
        "\n",
        "        aspect_ratio = (right - left) / (bottom - top)\n",
        "        ratios.append(aspect_ratio)"
      ],
      "metadata": {
        "id": "1s526UDj7XCQ"
      },
      "execution_count": null,
      "outputs": []
    },
    {
      "cell_type": "code",
      "source": [
        "def process_signature(image_path, output_prefix):\n",
        "    # Ensure the output directory exists\n",
        "    output_dir = os.path.dirname(output_prefix)\n",
        "    if not os.path.exists(output_dir):\n",
        "        os.makedirs(output_dir)\n",
        "\n",
        "    img = Image.open(image_path)\n",
        "    img = img.convert('L')\n",
        "    threshold = 128\n",
        "    binary_img = img.point(lambda p: p > threshold and 255)\n",
        "\n",
        "    draw = ImageDraw.Draw(binary_img)\n",
        "    width, height = binary_img.size\n",
        "\n",
        "    centroids, transitions, ratios = [], [], []\n",
        "\n",
        "    draw_centroid_grid(binary_img, draw, 0, width, 0, height, depth=0, centroids=centroids, transitions=transitions, ratios=ratios)\n",
        "\n",
        "    # Prepare CSV file data\n",
        "    csv_data = []\n",
        "    for i in range(64):\n",
        "        centroid_x, centroid_y = centroids[i]\n",
        "        transition_count = transitions[i]\n",
        "        aspect_ratio = ratios[i]\n",
        "        csv_data.append([centroid_x, centroid_y, transition_count, aspect_ratio])\n",
        "\n",
        "    # Save the data into a CSV file\n",
        "    csv_file = f'{output_prefix}_features.csv'\n",
        "    with open(csv_file, mode='w', newline='') as file:\n",
        "        writer = csv.writer(file)\n",
        "        writer.writerow(['Centroid X', 'Centroid Y', 'Transitions', 'Aspect Ratio'])  # Header\n",
        "        writer.writerows(csv_data)\n",
        "\n",
        "    # Save the image with the grid\n",
        "    grid_image_path = f'{output_prefix}_signature_with_grid_R001.png'\n",
        "    binary_img.save(grid_image_path)\n",
        "    binary_img.show()\n",
        "\n",
        "    return csv_file, grid_image_path"
      ],
      "metadata": {
        "id": "b28jA69k7a7K"
      },
      "execution_count": null,
      "outputs": []
    },
    {
      "cell_type": "code",
      "source": [
        "csv_file, grid_image = process_signature('/content/binary_signature_R001.png', '/content/latestresult_of_R001')\n",
        "print(f'CSV File Created: {csv_file}')\n",
        "print(f'Grid Image Saved: {grid_image}')"
      ],
      "metadata": {
        "colab": {
          "base_uri": "https://localhost:8080/"
        },
        "id": "vAY6DHIT7fEs",
        "outputId": "bb1f17b0-c260-470a-bac8-5174dffc5bfd"
      },
      "execution_count": 64,
      "outputs": [
        {
          "output_type": "stream",
          "name": "stdout",
          "text": [
            "CSV File Created: /content/latestresult_of_R001_features.csv\n",
            "Grid Image Saved: /content/latestresult_of_R001_signature_with_grid_R001.png\n"
          ]
        }
      ]
    },
    {
      "cell_type": "markdown",
      "source": [
        "##Extracting the features of all 25 Images into result.csv"
      ],
      "metadata": {
        "id": "T4-pr6Hd3R5t"
      }
    },
    {
      "cell_type": "code",
      "source": [
        "def find_centroid(image, left, right, top, bottom):\n",
        "    cx, cy, n = 0, 0, 0\n",
        "    for x in range(left, right):\n",
        "        for y in range(top, bottom):\n",
        "            color = image.getpixel((x, y))\n",
        "            if color == 0:  # Black pixel\n",
        "                cx += x\n",
        "                cy += y\n",
        "                n += 1\n",
        "    if n > 0:\n",
        "        return (cx // n, cy // n)\n",
        "    else:\n",
        "        return ((left + right) // 2, (top + bottom) // 2)\n",
        "\n",
        "\n"
      ],
      "metadata": {
        "id": "zOSISnBWUHzu"
      },
      "execution_count": 55,
      "outputs": []
    },
    {
      "cell_type": "code",
      "source": [
        "def find_transitions(image, left, right, top, bottom):\n",
        "    transitions = 0\n",
        "    prev_pixel = None\n",
        "    for x in range(left, right):\n",
        "        for y in range(top, bottom):\n",
        "            curr_pixel = image.getpixel((x, y))\n",
        "            if prev_pixel == 0 and curr_pixel == 255:\n",
        "                transitions += 1\n",
        "            prev_pixel = curr_pixel\n",
        "    return transitions"
      ],
      "metadata": {
        "id": "wGvwc-eSs5TV"
      },
      "execution_count": 56,
      "outputs": []
    },
    {
      "cell_type": "code",
      "source": [
        "def draw_centroid_grid(image, draw, left, right, top, bottom, depth=0, centroids=[], transitions=[], ratios=[]):\n",
        "    if depth < 3:\n",
        "        cx, cy = find_centroid(image, left, right, top, bottom)\n",
        "        draw.line([(cx, top), (cx, bottom)], fill=\"blue\", width=1)\n",
        "        draw.line([(left, cy), (right, cy)], fill=\"blue\", width=1)\n",
        "        draw_centroid_grid(image, draw, left, cx, top, cy, depth + 1, centroids, transitions, ratios)\n",
        "        draw_centroid_grid(image, draw, cx, right, top, cy, depth + 1, centroids, transitions, ratios)\n",
        "        draw_centroid_grid(image, draw, left, cx, cy, bottom, depth + 1, centroids, transitions, ratios)\n",
        "        draw_centroid_grid(image, draw, cx, right, cy, bottom, depth + 1, centroids, transitions, ratios)\n",
        "    else:\n",
        "        centroid = find_centroid(image, left, right, top, bottom)\n",
        "        centroids.append(centroid)\n",
        "        transition_count = find_transitions(image, left, right, top, bottom)\n",
        "        transitions.append(transition_count)\n",
        "        aspect_ratio = (right - left) / (bottom - top)\n",
        "        ratios.append(aspect_ratio)"
      ],
      "metadata": {
        "id": "8Se7Q8va3293"
      },
      "execution_count": 57,
      "outputs": []
    },
    {
      "cell_type": "code",
      "source": [
        "def process_signature(image_path, centroids, transitions, ratios):\n",
        "    img = Image.open(image_path)\n",
        "    img = img.convert('L')\n",
        "    threshold = 128\n",
        "    binary_img = img.point(lambda p: p > threshold and 255)\n",
        "    draw = ImageDraw.Draw(binary_img)\n",
        "    width, height = binary_img.size\n",
        "    draw_centroid_grid(binary_img, draw, 0, width, 0, height, depth=0, centroids=centroids, transitions=transitions, ratios=ratios)"
      ],
      "metadata": {
        "id": "vnZr9CAP38bg"
      },
      "execution_count": 58,
      "outputs": []
    },
    {
      "cell_type": "code",
      "source": [
        "def process_all_signatures(output_prefix):\n",
        "    centroids, transitions, ratios = [], [], []\n",
        "    csv_file = f'{output_prefix}_features.csv'\n",
        "\n",
        "    # Process each file from R001.png to R025.png\n",
        "    for i in range(1, 26):\n",
        "        file_path = f'/content/R{i:03d}.png'\n",
        "        process_signature(file_path, centroids, transitions, ratios)\n",
        "\n",
        "    # Prepare CSV file data\n",
        "    csv_data = []\n",
        "    for i in range(len(centroids)):\n",
        "        centroid_x, centroid_y = centroids[i]\n",
        "        transition_count = transitions[i]\n",
        "        aspect_ratio = ratios[i]\n",
        "        csv_data.append([centroid_x, centroid_y, transition_count, aspect_ratio])\n",
        "\n",
        "    # Write the results to a single CSV file\n",
        "    with open(csv_file, mode='w', newline='') as file:\n",
        "        writer = csv.writer(file)\n",
        "        writer.writerow(['Centroid X', 'Centroid Y', 'Transitions', 'Aspect Ratio'])  # Header\n",
        "        writer.writerows(csv_data)\n",
        "\n",
        "    print(f'All data saved to CSV: {csv_file}')\n",
        "    return csv_file"
      ],
      "metadata": {
        "id": "vLQfS9bs4Dq2"
      },
      "execution_count": 59,
      "outputs": []
    },
    {
      "cell_type": "code",
      "source": [
        "csv_file = process_all_signatures('/content/Output')\n",
        "print(f'CSV File Created: {csv_file}')\n"
      ],
      "metadata": {
        "colab": {
          "base_uri": "https://localhost:8080/"
        },
        "id": "P2mNJ9ou4Gmy",
        "outputId": "1ed8dbe9-9047-4512-8ce3-d9f225baaf96"
      },
      "execution_count": 60,
      "outputs": [
        {
          "output_type": "stream",
          "name": "stdout",
          "text": [
            "All data saved to CSV: /content/Output_features.csv\n",
            "CSV File Created: /content/Output_features.csv\n"
          ]
        }
      ]
    },
    {
      "cell_type": "markdown",
      "source": [
        "#Finding Skew and Slant Angles"
      ],
      "metadata": {
        "id": "iSZqiGOY9XRT"
      }
    },
    {
      "cell_type": "code",
      "source": [
        "def calculate_skew_angle(image_path):\n",
        "    # Load image, convert to grayscale and binary\n",
        "    img = cv2.imread(image_path, cv2.IMREAD_GRAYSCALE)\n",
        "    _, binary_img = cv2.threshold(img, 128, 255, cv2.THRESH_BINARY_INV)\n",
        "\n",
        "    # Detect skew angle using PCA\n",
        "    coords = np.column_stack(np.where(binary_img > 0))\n",
        "    pca = PCA(n_components=2)\n",
        "    pca.fit(coords)\n",
        "\n",
        "    angle = np.arctan2(pca.components_[0, 1], pca.components_[0, 0])\n",
        "    skew_angle = np.degrees(angle)\n",
        "\n",
        "    return skew_angle"
      ],
      "metadata": {
        "id": "J9K7oZAT4LWb"
      },
      "execution_count": 67,
      "outputs": []
    },
    {
      "cell_type": "code",
      "source": [
        "def calculate_slant_angle(image_path):\n",
        "    # Load image, convert to grayscale and binary\n",
        "    img = cv2.imread(image_path, cv2.IMREAD_GRAYSCALE)\n",
        "    _, binary_img = cv2.threshold(img, 128, 255, cv2.THRESH_BINARY_INV)\n",
        "\n",
        "    # Calculate the slant angle using projection profile\n",
        "    height, width = binary_img.shape\n",
        "    column_sums = []\n",
        "\n",
        "    for x in range(width):\n",
        "        column = binary_img[:, x]\n",
        "        y_coords = np.where(column > 0)[0]\n",
        "        if y_coords.size > 0:\n",
        "            column_sums.append(np.mean(y_coords))\n",
        "\n",
        "    # Fit a line to the center points\n",
        "    x_coords = np.arange(len(column_sums))\n",
        "    if len(x_coords) > 1:\n",
        "        fit = np.polyfit(x_coords, column_sums, 1)\n",
        "        slant_angle = np.degrees(np.arctan(fit[0]))\n",
        "    else:\n",
        "        slant_angle = 0  # Default if no angle can be calculated\n",
        "\n",
        "    return slant_angle"
      ],
      "metadata": {
        "id": "8o9jU6uG9nry"
      },
      "execution_count": 68,
      "outputs": []
    },
    {
      "cell_type": "code",
      "source": [
        "image_path = '/content/R001.png'\n",
        "skew_angle = calculate_skew_angle(image_path)\n",
        "slant_angle = calculate_slant_angle(image_path)\n",
        "\n",
        "print(f\"Skew Angle: {skew_angle:.2f}°\")\n",
        "print(f\"Slant Angle: {slant_angle:.2f}°\")"
      ],
      "metadata": {
        "colab": {
          "base_uri": "https://localhost:8080/"
        },
        "id": "JXCYek4x88-c",
        "outputId": "13c18887-5bca-44a8-91cc-f321f8659c17"
      },
      "execution_count": 69,
      "outputs": [
        {
          "output_type": "stream",
          "name": "stdout",
          "text": [
            "Skew Angle: 92.90°\n",
            "Slant Angle: -2.57°\n"
          ]
        }
      ]
    },
    {
      "cell_type": "markdown",
      "source": [
        "Each function is designed to support feature extraction from signature images by analyzing structural properties at a grid-cell level. The code recursively divides images into smaller regions, calculates centroids, counts transitions, and finds aspect ratios, all of which are saved in a structured CSV format for easy analysis. This design allows for flexible processing of multiple images by storing all relevant features in a single output file."
      ],
      "metadata": {
        "id": "o6nLeiYz9xHY"
      }
    },
    {
      "cell_type": "code",
      "source": [],
      "metadata": {
        "id": "Hb4duW-_9stJ"
      },
      "execution_count": null,
      "outputs": []
    }
  ]
}